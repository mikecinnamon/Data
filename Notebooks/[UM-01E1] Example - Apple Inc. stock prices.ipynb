{
  "nbformat": 4,
  "nbformat_minor": 0,
  "metadata": {
    "colab": {
      "provenance": [],
      "include_colab_link": true
    },
    "kernelspec": {
      "name": "python3",
      "display_name": "Python 3"
    },
    "language_info": {
      "name": "python"
    }
  },
  "cells": [
    {
      "cell_type": "markdown",
      "metadata": {
        "id": "view-in-github",
        "colab_type": "text"
      },
      "source": [
        "<a href=\"https://colab.research.google.com/github/mikecinnamon/Data/blob/main/Notebooks/%5BUM-01E1%5D%20Example%20-%20Apple%20Inc.%20stock%20prices.ipynb\" target=\"_parent\"><img src=\"https://colab.research.google.com/assets/colab-badge.svg\" alt=\"Open In Colab\"/></a>"
      ]
    },
    {
      "cell_type": "markdown",
      "source": [
        "# [UM-01E1] Example - Apple Inc. stock prices"
      ],
      "metadata": {
        "id": "3mn8sH82UZgr"
      }
    },
    {
      "cell_type": "markdown",
      "source": [
        "## Importing the data"
      ],
      "metadata": {
        "id": "7W_i4UFqVF0T"
      }
    },
    {
      "cell_type": "code",
      "source": [
        "import pandas as pd"
      ],
      "metadata": {
        "id": "5tiaYvk1Vsoq"
      },
      "execution_count": null,
      "outputs": []
    },
    {
      "cell_type": "code",
      "source": [
        "path = 'https://raw.githubusercontent.com/mikecinnamon/DataSci/main/Data/'"
      ],
      "metadata": {
        "id": "HFpqvz8XbZ6g"
      },
      "execution_count": null,
      "outputs": []
    },
    {
      "cell_type": "code",
      "source": [
        "df = pd.read_csv(path + 'aapl.csv')"
      ],
      "metadata": {
        "id": "uUdE2RoycKpk"
      },
      "execution_count": null,
      "outputs": []
    },
    {
      "cell_type": "markdown",
      "source": [
        "## Exploring the data"
      ],
      "metadata": {
        "id": "NU-cBohlcrob"
      }
    },
    {
      "cell_type": "code",
      "source": [
        "df.info()"
      ],
      "metadata": {
        "id": "Emzy2jY8YEen"
      },
      "execution_count": null,
      "outputs": []
    },
    {
      "cell_type": "code",
      "source": [
        "df.head()"
      ],
      "metadata": {
        "id": "ZNwPezj4Yunj"
      },
      "execution_count": null,
      "outputs": []
    },
    {
      "cell_type": "code",
      "source": [
        "df.describe()"
      ],
      "metadata": {
        "id": "g5u65iV6Y4dr"
      },
      "execution_count": null,
      "outputs": []
    },
    {
      "cell_type": "markdown",
      "source": [
        "## Q1. Data previous to January 15th"
      ],
      "metadata": {
        "id": "yD0ITU44Y6dg"
      }
    },
    {
      "cell_type": "code",
      "source": [
        "df[df['date'] < '2022-01-15']"
      ],
      "metadata": {
        "id": "9YrM1KRvZAa8"
      },
      "execution_count": null,
      "outputs": []
    },
    {
      "cell_type": "markdown",
      "source": [
        "## Q2. Line plot for the opening price"
      ],
      "metadata": {
        "id": "FlyZH4PWZCjt"
      }
    },
    {
      "cell_type": "code",
      "source": [
        "df['open'].plot(figsize=(8,5), title='Figure 1. Opening price (USD)', color='black', linewidth=1);"
      ],
      "metadata": {
        "id": "QsOEeDz6ZRkG"
      },
      "execution_count": null,
      "outputs": []
    },
    {
      "cell_type": "markdown",
      "source": [
        "## Q3. Line plot and histogram for the trading volume"
      ],
      "metadata": {
        "id": "Hw8HaEU-ZVO8"
      }
    },
    {
      "cell_type": "code",
      "source": [
        "df['volume'] = df['volume']/10**6"
      ],
      "metadata": {
        "id": "wY7D9EIDZgHi"
      },
      "execution_count": null,
      "outputs": []
    },
    {
      "cell_type": "code",
      "source": [
        "df['volume'].plot(figsize=(8,5), title='Figure 2. Trading volume (million shares)', color='black', linewidth=1);"
      ],
      "metadata": {
        "id": "kHtJyms2aN1e"
      },
      "execution_count": null,
      "outputs": []
    },
    {
      "cell_type": "code",
      "source": [
        "df['volume'].plot.hist(figsize=(7,5),\n",
        "    title='Figure 3. Trading volume (alternative visualization)',\n",
        "    color='gray', edgecolor='white', xlabel='Trading volume (million shares)');"
      ],
      "metadata": {
        "id": "Y_YNqbnzaPvG"
      },
      "execution_count": null,
      "outputs": []
    },
    {
      "cell_type": "markdown",
      "source": [
        "## Q4. Trend and distribution for the daily price variation"
      ],
      "metadata": {
        "id": "dRpFbeRIaShr"
      }
    },
    {
      "cell_type": "code",
      "source": [
        "df['dvar'] = df['high'] - df['low']"
      ],
      "metadata": {
        "id": "wyWHeftbaeje"
      },
      "execution_count": null,
      "outputs": []
    },
    {
      "cell_type": "code",
      "source": [
        "df.head()"
      ],
      "metadata": {
        "id": "OZ4J0s-3ahL6"
      },
      "execution_count": null,
      "outputs": []
    },
    {
      "cell_type": "code",
      "source": [
        "df['dvar'].plot(figsize=(8,5), title='Figure 4. Daily price variation (USD)',\n",
        "    color='black', linewidth=1);"
      ],
      "metadata": {
        "id": "aNqAr6s7ajGO"
      },
      "execution_count": null,
      "outputs": []
    },
    {
      "cell_type": "code",
      "source": [
        "df['dvar'].plot.hist(figsize=(7,5),\n",
        "    title='Figure 5. Daily price variation (alternative visualization)',\n",
        "    color='gray', edgecolor='white', xlabel='Daily price variation (USD)');"
      ],
      "metadata": {
        "id": "jeuaUwmpalJ6"
      },
      "execution_count": null,
      "outputs": []
    },
    {
      "cell_type": "markdown",
      "source": [
        "## Q5. Association between daily price variation and trading volume"
      ],
      "metadata": {
        "id": "z82QP1AiaoAC"
      }
    },
    {
      "cell_type": "code",
      "source": [
        "df.plot.scatter(x='volume', y='dvar',\n",
        "    title='Figure 6. Daily variation vs volume', figsize=(5,5), color='gray',\n",
        "    xlabel='Trading volume (million shares)', ylabel='Daily price variation (USD)');"
      ],
      "metadata": {
        "id": "YFm5_CIgatku"
      },
      "execution_count": null,
      "outputs": []
    },
    {
      "cell_type": "code",
      "source": [
        "df['volume'].corr(df['dvar'])"
      ],
      "metadata": {
        "id": "l52nVSQ-awDt"
      },
      "execution_count": null,
      "outputs": []
    },
    {
      "cell_type": "code",
      "source": [
        "df['volume'].corr(df['dvar']).round(2)"
      ],
      "metadata": {
        "id": "H6ifFhq2ayF2"
      },
      "execution_count": null,
      "outputs": []
    }
  ]
}