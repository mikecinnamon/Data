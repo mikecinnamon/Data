{
  "nbformat": 4,
  "nbformat_minor": 0,
  "metadata": {
    "colab": {
      "provenance": [],
      "authorship_tag": "ABX9TyO0xDs5ff05gxYk6gCqkpYG",
      "include_colab_link": true
    },
    "kernelspec": {
      "name": "python3",
      "display_name": "Python 3"
    },
    "language_info": {
      "name": "python"
    }
  },
  "cells": [
    {
      "cell_type": "markdown",
      "metadata": {
        "id": "view-in-github",
        "colab_type": "text"
      },
      "source": [
        "<a href=\"https://colab.research.google.com/github/mikecinnamon/Data/blob/main/Notebooks/%5BUM-05E%5D%20Example%20-%20Book%20recommendations.ipynb\" target=\"_parent\"><img src=\"https://colab.research.google.com/assets/colab-badge.svg\" alt=\"Open In Colab\"/></a>"
      ]
    },
    {
      "cell_type": "markdown",
      "source": [
        "# [UM-05E] Example - Book recommendations"
      ],
      "metadata": {
        "id": "0HXO9N3FBz9L"
      }
    },
    {
      "cell_type": "markdown",
      "source": [
        "## Importing the data"
      ],
      "metadata": {
        "id": "1yDXXW4aCKO_"
      }
    },
    {
      "cell_type": "code",
      "source": [
        "import pandas as pd"
      ],
      "metadata": {
        "id": "wFOPpUx0CThg"
      },
      "execution_count": null,
      "outputs": []
    },
    {
      "cell_type": "code",
      "source": [
        "path = 'https://raw.githubusercontent.com/mikecinnamon/DataSci/main/Data/'"
      ],
      "metadata": {
        "id": "4vSBLb5tCj8i"
      },
      "execution_count": null,
      "outputs": []
    },
    {
      "cell_type": "code",
      "source": [
        "ratings = pd.read_csv(path + 'book_ratings.csv.zip')\n",
        "ratings.info()"
      ],
      "metadata": {
        "id": "s9cqrz0JCpAB"
      },
      "execution_count": null,
      "outputs": []
    },
    {
      "cell_type": "code",
      "source": [
        "items = pd.read_csv(path + 'book_items.csv.zip')\n",
        "items.info()"
      ],
      "metadata": {
        "id": "5Tfxr5uMCxxS"
      },
      "execution_count": null,
      "outputs": []
    },
    {
      "cell_type": "markdown",
      "source": [
        "## Joining the tables"
      ],
      "metadata": {
        "id": "IR4quWgTDjxF"
      }
    },
    {
      "cell_type": "code",
      "source": [
        "df = ratings.merge(items)\n",
        "df.info()"
      ],
      "metadata": {
        "id": "FTBajG4fC9oE"
      },
      "execution_count": null,
      "outputs": []
    },
    {
      "cell_type": "markdown",
      "source": [
        "## Q1. How often do bookcrossers rate the books they pick?"
      ],
      "metadata": {
        "id": "3xlCmBX6Desl"
      }
    },
    {
      "cell_type": "code",
      "source": [
        "(df['rating'] > 0).mean().round(3)"
      ],
      "metadata": {
        "id": "MfLVpCaZDrY2"
      },
      "execution_count": null,
      "outputs": []
    },
    {
      "cell_type": "markdown",
      "source": [
        "## Q2. Which titles have been picked more times?"
      ],
      "metadata": {
        "id": "w1Mj7y8_DwGG"
      }
    },
    {
      "cell_type": "code",
      "source": [
        "df['title'].value_counts().head(10)"
      ],
      "metadata": {
        "id": "GLDGeo1RDzDW"
      },
      "execution_count": null,
      "outputs": []
    },
    {
      "cell_type": "markdown",
      "source": [
        "## Q3. Which books have been rated highest?"
      ],
      "metadata": {
        "id": "0Iu2oBoFE2Ma"
      }
    },
    {
      "cell_type": "code",
      "source": [
        "df1 = df[df['rating'] > 0][['title', 'rating']].groupby(by='title').agg(['mean', 'count'])\n",
        "df1.head()"
      ],
      "metadata": {
        "id": "1TUAGATKE7BZ"
      },
      "execution_count": null,
      "outputs": []
    },
    {
      "cell_type": "code",
      "source": [
        "df1.columns"
      ],
      "metadata": {
        "id": "blkhLEtHFEY6"
      },
      "execution_count": null,
      "outputs": []
    },
    {
      "cell_type": "code",
      "source": [
        "df1.columns= ['mean', 'count']"
      ],
      "metadata": {
        "id": "ax2jZOjvFH_q"
      },
      "execution_count": null,
      "outputs": []
    },
    {
      "cell_type": "code",
      "source": [
        "df1[df1['count'] >= 25].sort_values(by='mean', ascending=False).head(10)"
      ],
      "metadata": {
        "id": "1A3aUOyzF79c"
      },
      "execution_count": null,
      "outputs": []
    },
    {
      "cell_type": "markdown",
      "source": [
        "## Q4. How many editions of *The Martian Chronicles* in English?"
      ],
      "metadata": {
        "id": "RdqkS3S5GQPM"
      }
    },
    {
      "cell_type": "code",
      "source": [
        "items[items['title'].str.contains('martian chronicles', case=False)]"
      ],
      "metadata": {
        "id": "7FQaI2LeGUpM"
      },
      "execution_count": null,
      "outputs": []
    },
    {
      "cell_type": "markdown",
      "source": [
        "## Q5. Five books to be recommended to users having picked *The Martian Chronicles*"
      ],
      "metadata": {
        "id": "CviCZsxmGdxd"
      }
    },
    {
      "cell_type": "code",
      "source": [
        "mc_users = df[df['title'].str.contains('martian chronicles', case=False)]['user']\n",
        "mc_users"
      ],
      "metadata": {
        "id": "S3-TdWtYGkDM"
      },
      "execution_count": null,
      "outputs": []
    },
    {
      "cell_type": "code",
      "source": [
        "mc_df = df[df['user'].isin(mc_users)]"
      ],
      "metadata": {
        "id": "uwPzS9S1Go2N"
      },
      "execution_count": null,
      "outputs": []
    },
    {
      "cell_type": "code",
      "source": [
        "mc_df = mc_df[~mc_df['title'].str.contains('martian chronicles', case=False)]\n",
        "mc_df.shape"
      ],
      "metadata": {
        "id": "jc0kL4vlGscc"
      },
      "execution_count": null,
      "outputs": []
    },
    {
      "cell_type": "code",
      "source": [
        "conf = mc_df['isbn'].value_counts()/len(mc_users)\n",
        "conf"
      ],
      "metadata": {
        "id": "2dANDjG_Gyh8"
      },
      "execution_count": null,
      "outputs": []
    },
    {
      "cell_type": "code",
      "source": [
        "pd.DataFrame({'conf': conf[:5]}).merge(items, left_index=True, right_on='isbn')[['title', 'author', 'conf']]"
      ],
      "metadata": {
        "id": "kWa8gfzSG2Xd"
      },
      "execution_count": null,
      "outputs": []
    },
    {
      "cell_type": "code",
      "source": [
        "mc_conf = pd.DataFrame({'conf': conf}).merge(items, left_index=True, right_on='isbn')[['title', 'author', 'conf']]\n",
        "mc_conf.groupby(by=['title', 'author'])['conf'].sum().sort_values(ascending=False)[:5]"
      ],
      "metadata": {
        "id": "nfASvpxBG8Wd"
      },
      "execution_count": null,
      "outputs": []
    }
  ]
}